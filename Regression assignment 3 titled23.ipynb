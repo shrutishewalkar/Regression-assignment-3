{
 "cells": [
  {
   "cell_type": "markdown",
   "id": "852bd9fb-cb10-4936-853f-5d3f3f6cd08f",
   "metadata": {},
   "source": [
    "Q1 What is Ridge Regression, and how does it differ from ordinary least squares regression?"
   ]
  },
  {
   "cell_type": "markdown",
   "id": "be967413-0536-4f7c-904a-097fbb14c8d7",
   "metadata": {},
   "source": [
    "Ans: The difference between Ridge regression and OLS regression is the addition of the L2 penalty term. OLS regression aims to minimize the sum of squared errors between the predicted and actual values of the dependent variable. However, OLS regression may overfit the training data, leading to poor generalization to new data. In contrast, Ridge regression adds a penalty term to the objective function, which shrinks the regression coefficients towards zero, and thus reduces the complexity of the model. This trade-off between fitting the training data and complexity of the model is controlled by the regularization parameter λ."
   ]
  },
  {
   "cell_type": "markdown",
   "id": "f7e92534-0438-499b-aae6-64dea135b9bf",
   "metadata": {},
   "source": [
    "Q2 what are the assumptions of ridge regression ?"
   ]
  },
  {
   "cell_type": "markdown",
   "id": "c49fe717-4107-4ffb-90e7-878653692e3c",
   "metadata": {},
   "source": [
    "Ans:The assumptions of Ridge regression are:\n",
    "\n",
    "\n",
    "Linear Relationship: The relationship between the independent variables and the dependent variable must be linear. This means that the effect of a unit change in the independent variable on the dependent variable is constant across all levels of the independent variables.\n",
    "\n",
    "\n",
    "No Multicollinearity: There should be no perfect multicollinearity between the independent variables. Multicollinearity refers to the situation where two or more independent variables are highly correlated with each other, making it difficult to distinguish their individual effects on the dependent variable.\n",
    "\n",
    "\n",
    "Homoscedasticity: The variance of the errors should be constant across all levels of the independent variables. This means that the spread of the residuals should be the same for all values of the independent variables.\n",
    "\n",
    "\n",
    "Normality of Residuals: The residuals should be normally distributed. This means that the errors should follow a normal distribution with a mean of zero.\n",
    "\n",
    "\n",
    "Independent Observations: The observations should be independent of each other. This means that the value of one observation should not be influenced by the value of another observation."
   ]
  },
  {
   "cell_type": "markdown",
   "id": "31fb5878-d0b9-4b40-b13b-efbd3f2329c9",
   "metadata": {},
   "source": [
    "Q3 How do you select the value of the tuning parameter (lambda) in Ridge Regression?"
   ]
  },
  {
   "cell_type": "markdown",
   "id": "aaee028c-18c8-4ec1-8f29-f9ecda925e4a",
   "metadata": {},
   "source": [
    "There are several methods for selecting the optimal value of λ in Ridge regression, including:\n",
    "\n",
    "\n",
    "Cross-Validation: One of the most common methods for selecting λ is through cross-validation. In k-fold cross-validation, the data is divided into k-folds, and the model is trained on k-1 folds and tested on the remaining fold. This process is repeated for all possible combinations of training and test sets. The average test error across all folds is used to select the optimal value of λ that minimizes the test error.\n",
    "\n",
    "\n",
    "Analytical Solution: An analytical solution for the optimal value of λ can be derived using the bias-variance trade-off. This involves finding the value of λ that minimizes the sum of squared errors (SSE) and the L2 norm of the coefficient vector. This method is less computationally expensive than cross-validation, but it assumes that the data meets certain assumptions and may not always be practical.\n",
    "\n",
    "\n",
    "Grid Search: Grid search involves selecting a range of λ values and testing the model's performance for each value. The optimal value of λ is the one that achieves the best performance.\n",
    "\n",
    "\n",
    "Bayesian Methods: Bayesian methods can also be used to estimate the optimal value of λ by defining a prior distribution on the value of λ and using the posterior distribution to make predictions. This method can provide a probabilistic estimate of the optimal value of λ, but it may require more computational resources than other methods."
   ]
  },
  {
   "cell_type": "markdown",
   "id": "515d7489-3663-45e0-b97e-ebcc2dcf3019",
   "metadata": {},
   "source": [
    "Q4 Can Ridge Regression be used for feature selection? If yes, how?"
   ]
  },
  {
   "cell_type": "markdown",
   "id": "47c8d0cf-0663-4039-9796-1cb163dc0f9b",
   "metadata": {},
   "source": [
    "Ans: To use Ridge regression for feature selection, one can follow these steps:\n",
    "\n",
    "\n",
    "1. Train a Ridge regression model on the dataset with all the features included.\n",
    "\n",
    "\n",
    "2. Vary the value of the regularization parameter λ and evaluate the performance of the model using a suitable metric such as mean squared error or R-squared.\n",
    "\n",
    "\n",
    "3. Choose the value of λ that results in the best performance, while still keeping the model as simple as possible.\n",
    "\n",
    "\n",
    "4. Identify the coefficients of the features that have been shrunk towards zero or have very small values. These features can be considered less important and can be removed from the model.\n",
    "\n",
    "\n",
    "5. Retrain the Ridge regression model using only the selected features and evaluate its performance."
   ]
  },
  {
   "cell_type": "markdown",
   "id": "783b3bca-f470-4d19-8f05-372bb856b33d",
   "metadata": {},
   "source": [
    "Q5How does the Ridge Regression model perform in the presence of multicollinearity?"
   ]
  },
  {
   "cell_type": "code",
   "execution_count": null,
   "id": "b42ac3a2-da56-49ad-81f2-a577a3212482",
   "metadata": {},
   "outputs": [],
   "source": [
    "A"
   ]
  }
 ],
 "metadata": {
  "kernelspec": {
   "display_name": "Python 3 (ipykernel)",
   "language": "python",
   "name": "python3"
  },
  "language_info": {
   "codemirror_mode": {
    "name": "ipython",
    "version": 3
   },
   "file_extension": ".py",
   "mimetype": "text/x-python",
   "name": "python",
   "nbconvert_exporter": "python",
   "pygments_lexer": "ipython3",
   "version": "3.10.8"
  }
 },
 "nbformat": 4,
 "nbformat_minor": 5
}
